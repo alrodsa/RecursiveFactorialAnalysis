{
 "cells": [
  {
   "cell_type": "markdown",
   "id": "74d566d4",
   "metadata": {},
   "source": [
    "# Abstract\n",
    "\n",
    "It is going to be compared the ***traditional recursive factorial method (Method A)*** and an ***alternative recursive version using a dictionary (Method B)***. Efficency and dictionary size are going to be analyzed.\n",
    "\n",
    "How this study is estructured:\n",
    "   1. Time spent between both methods.\n",
    "   2. Time difference depending on the distribution of numbers inside the list:\n",
    "        - Ascendent sort.\n",
    "        - Descendent sort.\n",
    "        - Random sort."
   ]
  },
  {
   "cell_type": "code",
   "execution_count": 1,
   "id": "59e55284",
   "metadata": {},
   "outputs": [],
   "source": [
    "import time\n",
    "import sys\n",
    "from random import randint"
   ]
  },
  {
   "cell_type": "code",
   "execution_count": 2,
   "id": "ddfc3035",
   "metadata": {},
   "outputs": [],
   "source": [
    "dic_factorial = {}"
   ]
  },
  {
   "cell_type": "code",
   "execution_count": 3,
   "id": "305d0403",
   "metadata": {},
   "outputs": [],
   "source": [
    "#Method A\n",
    "def factorial(n):\n",
    "    if n == 0:\n",
    "        return 1\n",
    "    else:\n",
    "        return n * factorial(n-1)"
   ]
  },
  {
   "cell_type": "code",
   "execution_count": 4,
   "id": "2958cc4e",
   "metadata": {},
   "outputs": [],
   "source": [
    "#Method B\n",
    "def factorial_dic(n):\n",
    "    if n in dic_factorial:\n",
    "        return dic_factorial[n]\n",
    "    else:\n",
    "        if n == 0:\n",
    "            return 1\n",
    "        else:\n",
    "            dic_factorial[n] = n * factorial_dic(n-1)\n",
    "            return dic_factorial[n]\n",
    "            "
   ]
  },
  {
   "cell_type": "markdown",
   "id": "eaab9266",
   "metadata": {},
   "source": [
    "## 1.Time spent between both methods.\n",
    "The list of numbers whose factorial value is going to be calculated will be in descending order."
   ]
  },
  {
   "cell_type": "code",
   "execution_count": 5,
   "id": "d82f975c",
   "metadata": {},
   "outputs": [],
   "source": [
    "#A list from 0 to 2970 is generated\n",
    "lista_numeros = [x for x in range(0,2970)]\n",
    "\n",
    "#List is sorted in descending order\n",
    "lista_numeros.sort(reverse=True)"
   ]
  },
  {
   "cell_type": "code",
   "execution_count": 6,
   "id": "01f40ef8",
   "metadata": {},
   "outputs": [
    {
     "name": "stdout",
     "output_type": "stream",
     "text": [
      "[Mean time]: 4.2 seconds\n"
     ]
    }
   ],
   "source": [
    "'''\n",
    "    The execution time will be acquired calculating the factorial of each number from 0 to 2970 10 times.\n",
    "    After that the mean time is caculated\n",
    "'''\n",
    "NTIMES = 10\n",
    "total_time = 0\n",
    "\n",
    "for n in range(0,NTIMES):\n",
    "    start_time = time.time()\n",
    "    \n",
    "    for e in lista_numeros:\n",
    "        factorial(e)\n",
    "    \n",
    "    finish_time = time.time()\n",
    "    \n",
    "    total_time += finish_time - start_time\n",
    "    \n",
    "    #print(f'[Iteration {n}] Time spent on normal function: {finish_time - start_time}')\n",
    "\n",
    "print(f'[Mean time]: {round(total_time/NTIMES,2)} seconds')\n",
    "\n",
    "    "
   ]
  },
  {
   "cell_type": "code",
   "execution_count": 7,
   "id": "d345e287",
   "metadata": {},
   "outputs": [
    {
     "name": "stdout",
     "output_type": "stream",
     "text": [
      "[Mean time]: 0.0087038493 seconds\n"
     ]
    }
   ],
   "source": [
    "'''\n",
    "    The execution time will be acquired calculating the factorial of each number from 0 to 2970 10 times.\n",
    "    After that the mean time is caculated\n",
    "'''\n",
    "NTIMES = 100\n",
    "total_time = 0\n",
    "\n",
    "for n in range(0,NTIMES):\n",
    "    dic_factorial = {}\n",
    "    start_time = time.time()\n",
    "    \n",
    "    for e in lista_numeros:\n",
    "        factorial_dic(e)\n",
    "    \n",
    "    finish_time = time.time()\n",
    "    \n",
    "    total_time += finish_time - start_time\n",
    "    \n",
    "    #print(f'[Iteration {n}] Time spent on normal function: {finish_time - start_time}')\n",
    "\n",
    "print(f'[Mean time]: {round(total_time/NTIMES,10)} seconds')"
   ]
  },
  {
   "cell_type": "code",
   "execution_count": 8,
   "id": "dae590c7",
   "metadata": {},
   "outputs": [
    {
     "name": "stdout",
     "output_type": "stream",
     "text": [
      "Size of the dictionary 147552 Bytes = 0.1407 Megabytes\n"
     ]
    }
   ],
   "source": [
    "dictionary_size = sys.getsizeof(dic_factorial)\n",
    "print(f'Size of the dictionary {dictionary_size} Bytes = {round(dictionary_size / 2**20, 4)} Megabytes')"
   ]
  },
  {
   "cell_type": "markdown",
   "id": "9c76783b",
   "metadata": {},
   "source": [
    "### Result\n",
    "As it is shown in the execution, when the Method A takes 2.31 seconds while th Method B takes 0.005314 secconds. The difference of time is caused due in the Method B it is used an dictionary that stores the factorial results, so by the time the factorial of a number is calculated, the function request the information to the dictionary, in case it has the information, this one is given directly, if not, it is recursively called to the same function given the number - 1 as parameter."
   ]
  },
  {
   "cell_type": "markdown",
   "id": "53fe0714",
   "metadata": {},
   "source": [
    "# 2.Time difference on Method B depending on the distribution of numbers inside the list."
   ]
  },
  {
   "cell_type": "markdown",
   "id": "e85e6446",
   "metadata": {},
   "source": [
    "## Ascendent order"
   ]
  },
  {
   "cell_type": "code",
   "execution_count": 9,
   "id": "7e8bf927",
   "metadata": {},
   "outputs": [],
   "source": [
    "#A list from 0 to 2970 is generated\n",
    "lista_numeros = [x for x in range(0,2970)]\n",
    "\n",
    "#List is sorted in descending order\n",
    "lista_numeros.sort(reverse=True) "
   ]
  },
  {
   "cell_type": "code",
   "execution_count": 10,
   "id": "9efc0e33",
   "metadata": {},
   "outputs": [
    {
     "name": "stdout",
     "output_type": "stream",
     "text": [
      "[Mean time]: 0.0057789122 seconds\n"
     ]
    }
   ],
   "source": [
    "NTIMES = 10000\n",
    "total_time = 0\n",
    "\n",
    "for n in range(0,NTIMES):\n",
    "    dic_factorial = {}\n",
    "    start_time = time.time()\n",
    "    \n",
    "    for e in lista_numeros:\n",
    "        factorial_dic(e)\n",
    "    \n",
    "    finish_time = time.time()\n",
    "    \n",
    "    total_time += finish_time - start_time\n",
    "    \n",
    "    #print(f'[Iteration {n}] Time spent on normal function: {finish_time - start_time}')\n",
    "\n",
    "print(f'[Mean time]: {round(total_time/NTIMES,10)} seconds')"
   ]
  },
  {
   "cell_type": "markdown",
   "id": "03141a64",
   "metadata": {},
   "source": [
    "## Descendent order"
   ]
  },
  {
   "cell_type": "code",
   "execution_count": 11,
   "id": "58a880b2",
   "metadata": {},
   "outputs": [],
   "source": [
    "#A list from 0 to 2970 is generated\n",
    "lista_numeros = [x for x in range(0,2970)]\n",
    "\n",
    "#List is sorted in descending order\n",
    "lista_numeros.sort(reverse=False) "
   ]
  },
  {
   "cell_type": "code",
   "execution_count": 12,
   "id": "c297463d",
   "metadata": {},
   "outputs": [
    {
     "name": "stdout",
     "output_type": "stream",
     "text": [
      "[Mean time]: 0.0053166651 seconds\n"
     ]
    }
   ],
   "source": [
    "NTIMES = 10000\n",
    "total_time = 0\n",
    "\n",
    "for n in range(0,NTIMES):\n",
    "    dic_factorial = {}\n",
    "    start_time = time.time()\n",
    "    \n",
    "    for e in lista_numeros:\n",
    "        factorial_dic(e)\n",
    "    \n",
    "    finish_time = time.time()\n",
    "    \n",
    "    total_time += finish_time - start_time\n",
    "    \n",
    "    #print(f'[Iteration {n}] Time spent on normal function: {finish_time - start_time}')\n",
    "\n",
    "print(f'[Mean time]: {round(total_time/NTIMES,10)} seconds')"
   ]
  },
  {
   "cell_type": "markdown",
   "id": "08ec4552",
   "metadata": {},
   "source": [
    "## Random order"
   ]
  },
  {
   "cell_type": "code",
   "execution_count": 13,
   "id": "afbb9669",
   "metadata": {},
   "outputs": [],
   "source": [
    "lista_numeros = []\n",
    "\n",
    "while True:\n",
    "    if len(lista_numeros) == 2869:\n",
    "        break\n",
    "    lista_numeros.append(randint(0,2970))"
   ]
  },
  {
   "cell_type": "code",
   "execution_count": 14,
   "id": "e5589442",
   "metadata": {},
   "outputs": [
    {
     "name": "stdout",
     "output_type": "stream",
     "text": [
      "[Mean time]: 0.0056069686 seconds\n"
     ]
    }
   ],
   "source": [
    "NTIMES = 10000\n",
    "total_time = 0\n",
    "\n",
    "for n in range(0,NTIMES):\n",
    "    dic_factorial = {}\n",
    "    start_time = time.time()\n",
    "    \n",
    "    for e in lista_numeros:\n",
    "        factorial_dic(e)\n",
    "    \n",
    "    finish_time = time.time()\n",
    "    \n",
    "    total_time += finish_time - start_time\n",
    "    \n",
    "    #print(f'[Iteration {n}] Time spent on normal function: {finish_time - start_time}')\n",
    "\n",
    "print(f'[Mean time]: {round(total_time/NTIMES,10)} seconds')"
   ]
  },
  {
   "cell_type": "markdown",
   "id": "52e64f38",
   "metadata": {},
   "source": [
    "In all cases, the time is almost the same 0.005"
   ]
  },
  {
   "cell_type": "code",
   "execution_count": null,
   "id": "f067210b",
   "metadata": {},
   "outputs": [],
   "source": []
  }
 ],
 "metadata": {
  "kernelspec": {
   "display_name": "Python 3 (ipykernel)",
   "language": "python",
   "name": "python3"
  },
  "language_info": {
   "codemirror_mode": {
    "name": "ipython",
    "version": 3
   },
   "file_extension": ".py",
   "mimetype": "text/x-python",
   "name": "python",
   "nbconvert_exporter": "python",
   "pygments_lexer": "ipython3",
   "version": "3.8.8"
  }
 },
 "nbformat": 4,
 "nbformat_minor": 5
}
